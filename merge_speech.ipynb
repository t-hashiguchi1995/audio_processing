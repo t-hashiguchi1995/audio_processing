{
 "cells": [
  {
   "cell_type": "code",
   "execution_count": null,
   "metadata": {},
   "outputs": [],
   "source": [
    "import os\n",
    "from pydub import AudioSegment\n",
    "\n",
    "# dataフォルダのパスを指定\n",
    "data_folder = 'data'\n",
    "\n",
    "# 結合後のファイルを保存するフォルダを指定\n",
    "output_folder = 'merge_mp3'\n",
    "os.makedirs(output_folder, exist_ok=True)\n",
    "\n",
    "# dataフォルダ内のサブフォルダを取得\n",
    "subfolders = [f for f in os.listdir(data_folder) if os.path.isdir(os.path.join(data_folder, f))]\n",
    "\n",
    "for subfolder in subfolders:\n",
    "    subfolder_path = os.path.join(data_folder, subfolder)\n",
    "    \n",
    "    # mp3ファイルを取得し、ソート\n",
    "    mp3_files = sorted([f for f in os.listdir(subfolder_path) if f.endswith('.mp3') and (f.startswith('01') or f.startswith('02'))])\n",
    "    \n",
    "    # EXファイルを追加\n",
    "    ex_files = [f for f in os.listdir(subfolder_path) if f.endswith('.mp3') and f.startswith('EX')]\n",
    "    mp3_files.extend(ex_files)\n",
    "\n",
    "    if len(mp3_files) == 1:\n",
    "        # 1つのmp3ファイルしかない場合は、そのまま移動\n",
    "        input_file = os.path.join(subfolder_path, mp3_files[0])\n",
    "        output_file = os.path.join(output_folder, f'{subfolder}.mp3')\n",
    "        os.rename(input_file, output_file)\n",
    "        print(f'{subfolder}フォルダ内の1つのmp3ファイルを{output_file}に移動しました。')\n",
    "    else:\n",
    "        try:\n",
    "            # 最初のファイルを読み込む\n",
    "            combined = AudioSegment.from_mp3(os.path.join(subfolder_path, mp3_files[0]))\n",
    "            \n",
    "            # 残りのファイルを結合\n",
    "            for mp3_file in mp3_files[1:]:\n",
    "                audio = AudioSegment.from_mp3(os.path.join(subfolder_path, mp3_file))\n",
    "                combined += audio\n",
    "            \n",
    "            # 結合したオーディオを保存\n",
    "            output_file = os.path.join(output_folder, f'{subfolder}.mp3')\n",
    "            combined.export(output_file, format='mp3')\n",
    "            print(f'{subfolder}フォルダ内の{len(mp3_files)}個のmp3ファイルを{output_file}に結合しました。')\n",
    "        except Exception as e:\n",
    "            print(f\"エラーが発生しました: {e}\")\n",
    "            print(f\"{subfolder_path}内のファイルを確認してください。\")\n",
    "            continue\n",
    "\n",
    "print(f'全てのサブフォルダの処理が完了しました。')\n"
   ]
  },
  {
   "cell_type": "code",
   "execution_count": null,
   "metadata": {},
   "outputs": [],
   "source": []
  }
 ],
 "metadata": {
  "kernelspec": {
   "display_name": "Python 3",
   "language": "python",
   "name": "python3"
  },
  "language_info": {
   "codemirror_mode": {
    "name": "ipython",
    "version": 3
   },
   "file_extension": ".py",
   "mimetype": "text/x-python",
   "name": "python",
   "nbconvert_exporter": "python",
   "pygments_lexer": "ipython3",
   "version": "3.11.7"
  }
 },
 "nbformat": 4,
 "nbformat_minor": 2
}
